{
 "cells": [
  {
   "cell_type": "markdown",
   "id": "adf9c88a",
   "metadata": {},
   "source": [
    "## Debugging"
   ]
  },
  {
   "cell_type": "code",
   "execution_count": 1,
   "id": "448db16b",
   "metadata": {},
   "outputs": [
    {
     "name": "stdout",
     "output_type": "stream",
     "text": [
      "Tkinter TkVersion: 8.6\n",
      "Tk/Tcl from _tkinter: 8.6 8.6\n"
     ]
    }
   ],
   "source": [
    "import tkinter as tk, _tkinter\n",
    "print(\"Tkinter TkVersion:\", tk.TkVersion)\n",
    "print(\"Tk/Tcl from _tkinter:\", _tkinter.TK_VERSION, _tkinter.TCL_VERSION)\n",
    "\n",
    "root = tk.Tk()\n"
   ]
  },
  {
   "cell_type": "code",
   "execution_count": null,
   "id": "5381de19",
   "metadata": {},
   "outputs": [],
   "source": []
  }
 ],
 "metadata": {
  "kernelspec": {
   "display_name": "venv (3.10.12)",
   "language": "python",
   "name": "python3"
  },
  "language_info": {
   "codemirror_mode": {
    "name": "ipython",
    "version": 3
   },
   "file_extension": ".py",
   "mimetype": "text/x-python",
   "name": "python",
   "nbconvert_exporter": "python",
   "pygments_lexer": "ipython3",
   "version": "3.10.12"
  }
 },
 "nbformat": 4,
 "nbformat_minor": 5
}
