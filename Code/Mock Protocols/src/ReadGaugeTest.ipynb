{
 "cells": [
  {
   "cell_type": "markdown",
   "id": "90c881e0",
   "metadata": {},
   "source": [
    "# Exploring whether we can read the pressure from a Pfeiffer Gauge"
   ]
  },
  {
   "cell_type": "markdown",
   "id": "f04fa2c3",
   "metadata": {},
   "source": [
    "## Setup the connection"
   ]
  },
  {
   "cell_type": "code",
   "execution_count": 1,
   "id": "8393f0a1",
   "metadata": {},
   "outputs": [
    {
     "ename": "ValueError",
     "evalue": "unrecognized gauge type",
     "output_type": "error",
     "traceback": [
      "\u001b[31m---------------------------------------------------------------------------\u001b[39m",
      "\u001b[31mValueError\u001b[39m                                Traceback (most recent call last)",
      "\u001b[36mCell\u001b[39m\u001b[36m \u001b[39m\u001b[32mIn[1]\u001b[39m\u001b[32m, line 10\u001b[39m\n\u001b[32m      8\u001b[39m s = serial.Serial(\u001b[33m\"\u001b[39m\u001b[33m/dev/tty.usbserial-BG000M9B\u001b[39m\u001b[33m\"\u001b[39m, baudrate=\u001b[32m9600\u001b[39m, timeout=\u001b[32m1\u001b[39m) \u001b[38;5;66;03m# This dev/tty is for the port closest to the ethernet port on Patrick's USB adapter\u001b[39;00m\n\u001b[32m      9\u001b[39m address = \u001b[32m122\u001b[39m\n\u001b[32m---> \u001b[39m\u001b[32m10\u001b[39m gauge_type = \u001b[43mpvp\u001b[49m\u001b[43m.\u001b[49m\u001b[43mread_gauge_type\u001b[49m\u001b[43m(\u001b[49m\u001b[43ms\u001b[49m\u001b[43m,\u001b[49m\u001b[43m \u001b[49m\u001b[43maddress\u001b[49m\u001b[43m)\u001b[49m\n\u001b[32m     11\u001b[39m \u001b[38;5;28mprint\u001b[39m(\u001b[33mf\u001b[39m\u001b[33m\"\u001b[39m\u001b[33mDetected: \u001b[39m\u001b[38;5;132;01m{\u001b[39;00mgauge_type\u001b[38;5;132;01m}\u001b[39;00m\u001b[33m at address: \u001b[39m\u001b[38;5;132;01m{\u001b[39;00maddress\u001b[38;5;132;01m}\u001b[39;00m\u001b[33m\"\u001b[39m)\n\u001b[32m     14\u001b[39m \u001b[38;5;66;03m# Pump is for later, we just wanna read the pressure first\u001b[39;00m\n\u001b[32m     15\u001b[39m \u001b[38;5;66;03m# # Create the pump\u001b[39;00m\n\u001b[32m     16\u001b[39m \u001b[38;5;66;03m# try:\u001b[39;00m\n\u001b[32m   (...)\u001b[39m\u001b[32m     19\u001b[39m \u001b[38;5;66;03m# except:\u001b[39;00m\n\u001b[32m     20\u001b[39m \u001b[38;5;66;03m#     print(\"unable to create pump\")\u001b[39;00m\n",
      "\u001b[36mFile \u001b[39m\u001b[32m~/Documents/UChicago/UChicago Research/Yang Research/Interlock Project/Code/Mock Protocols/src/PfiefferVacuumProtocol.py:196\u001b[39m, in \u001b[36mread_gauge_type\u001b[39m\u001b[34m(s, addr, valid_char_filter)\u001b[39m\n\u001b[32m    194\u001b[39m     \u001b[38;5;28;01mreturn\u001b[39;00m \u001b[33m\"\u001b[39m\u001b[33mMPT 100\u001b[39m\u001b[33m\"\u001b[39m\n\u001b[32m    195\u001b[39m \u001b[38;5;28;01melse\u001b[39;00m:\n\u001b[32m--> \u001b[39m\u001b[32m196\u001b[39m     \u001b[38;5;28;01mraise\u001b[39;00m \u001b[38;5;167;01mValueError\u001b[39;00m(\u001b[33m\"\u001b[39m\u001b[33munrecognized gauge type\u001b[39m\u001b[33m\"\u001b[39m)\n",
      "\u001b[31mValueError\u001b[39m: unrecognized gauge type"
     ]
    }
   ],
   "source": [
    "\n",
    "import PfiefferVacuumProtocol as pvp\n",
    "import serial\n",
    "import RealPfeifferTC110 as rpt\n",
    "import PfeifferTC110OfficialTest as TC_test\n",
    "\n",
    "# Open the serial port with a 1 second timeout (timeout time is the amount of time it will wait before moving onto the next line of code)\n",
    "# If \"COM1\" doesn’t work, you need to find which COM port is assigned to your USB-to-RS485 adapter.\n",
    "s = serial.Serial(\"/dev/tty.usbserial-BG000M9B\", baudrate=9600, timeout=1) # This dev/tty is for the port closest to the ethernet port on Patrick's USB adapter\n",
    "address = 122\n",
    "gauge_type = pvp.read_gauge_type(s, address)\n",
    "print(f\"Detected: {gauge_type} at address: {address}\")\n",
    "\n",
    "\n",
    "# Pump is for later, we just wanna read the pressure first\n",
    "# # Create the pump\n",
    "# try:\n",
    "#     pump = rpt.TC110()\n",
    "#     print(pump)\n",
    "# except:\n",
    "#     print(\"unable to create pump\")\n",
    "\n",
    "p1 = pvp.read_pressure(s, 122)\n",
    "print(p1)"
   ]
  },
  {
   "cell_type": "code",
   "execution_count": null,
   "id": "6dc6f697",
   "metadata": {},
   "outputs": [],
   "source": []
  },
  {
   "cell_type": "code",
   "execution_count": null,
   "id": "3c6513b2",
   "metadata": {},
   "outputs": [],
   "source": []
  }
 ],
 "metadata": {
  "kernelspec": {
   "display_name": "Python 3",
   "language": "python",
   "name": "python3"
  },
  "language_info": {
   "codemirror_mode": {
    "name": "ipython",
    "version": 3
   },
   "file_extension": ".py",
   "mimetype": "text/x-python",
   "name": "python",
   "nbconvert_exporter": "python",
   "pygments_lexer": "ipython3",
   "version": "3.11.0"
  }
 },
 "nbformat": 4,
 "nbformat_minor": 5
}
