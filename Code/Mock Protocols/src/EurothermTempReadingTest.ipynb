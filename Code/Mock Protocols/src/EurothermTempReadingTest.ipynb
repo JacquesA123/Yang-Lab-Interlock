{
 "cells": [
  {
   "cell_type": "markdown",
   "id": "72bf9070",
   "metadata": {},
   "source": [
    "# Eurotherm Temperature Reading Test"
   ]
  },
  {
   "cell_type": "code",
   "execution_count": 1,
   "id": "5e9b4770",
   "metadata": {},
   "outputs": [
    {
     "name": "stdout",
     "output_type": "stream",
     "text": [
      "3.11.1\n",
      "metllo\n"
     ]
    }
   ],
   "source": [
    "import pymodbus\n",
    "print(pymodbus.__version__)\n",
    "print('metllo')"
   ]
  },
  {
   "cell_type": "markdown",
   "id": "0a0384bd",
   "metadata": {},
   "source": [
    "## Try to establish modbus connection"
   ]
  },
  {
   "cell_type": "code",
   "execution_count": 40,
   "id": "2a8aeabd",
   "metadata": {},
   "outputs": [
    {
     "data": {
      "text/plain": [
       "<pymodbus.pdu.register_message.WriteSingleRegisterResponse at 0x1089bc690>"
      ]
     },
     "execution_count": 40,
     "metadata": {},
     "output_type": "execute_result"
    }
   ],
   "source": [
    "from pymodbus.client import ModbusTcpClient\n",
    "import time\n",
    "\n",
    "IP = \"192.168.111.222\" # IP address of the eurotherm controller\n",
    "\n",
    "client = ModbusTcpClient(IP)\n",
    "if not client.connect():\n",
    "    raise RuntimeError(\"Could not connect to Modbus TCP server\")\n",
    "client.connect()\n",
    "# print(dir(client))\n",
    "# result = client.read_holding_registers(2, device_id=1) # The first input of this function is the MODBUS address of the parameter (in this temperature) you're trying to read\n",
    "# print(result)\n",
    "# print(result.registers[0])\n",
    "\n",
    "# Write value to Eurotherm\n",
    "client.write_register(2, 210) # First input is the modbus address of the parameter you want to change, second parameters is the value you want to pass\n",
    "# time.sleep(1)\n",
    "# result_1 = client.read_holding_registers(1, device_id = 1)\n",
    "# result_2 = client.read_holding_registers(2, device_id=1)\n",
    "# print(result_1)\n",
    "# print(result_2)\n"
   ]
  },
  {
   "cell_type": "code",
   "execution_count": null,
   "id": "72041bc1",
   "metadata": {},
   "outputs": [
    {
     "name": "stdout",
     "output_type": "stream",
     "text": [
      "ReadHoldingRegistersResponse(dev_id=1, transaction_id=1, address=0, count=0, bits=[], registers=[164], status=1retries=0)\n",
      "Detected: PKR Series (Connected via OmniControl) at address: 122\n",
      "Raw Pressure Data: 295112\n",
      "2.951e-11\n"
     ]
    }
   ],
   "source": [
    "import PfiefferVacuumProtocol as pvp\n",
    "import serial\n",
    "import RealPfeifferTC110 as rpt\n",
    "import PfeifferTC110OfficialTest as TC_test\n",
    "\n",
    "# Open the serial port with a 1 second timeout (timeout time is the amount of time it will wait before moving onto the next line of code)\n",
    "# If \"COM1\" doesn’t work, you need to find which COM port is assigned to your USB-to-RS485 adapter.\n",
    "s = serial.Serial(\"/dev/tty.usbserial-BG000M9B\", baudrate=9600, timeout=1)\n",
    "address = 122\n",
    "gauge_type = pvp.read_gauge_type(s, address)\n",
    "print(f\"Detected: {gauge_type} at address: {address}\")\n",
    "\n",
    "\n",
    "# Pump is for later, we just wanna read the pressure first\n",
    "# # Create the pump\n",
    "# try:\n",
    "#     pump = rpt.TC110()\n",
    "#     print(pump)\n",
    "# except:\n",
    "#     print(\"unable to create pump\")\n",
    "\n",
    "p1 = pvp.read_pressure(s, 122)\n",
    "print(p1)"
   ]
  },
  {
   "cell_type": "markdown",
   "id": "394969b2",
   "metadata": {},
   "source": [
    "## Try to read the current, voltage, and power percentage of the eurotherm"
   ]
  },
  {
   "cell_type": "code",
   "execution_count": 28,
   "id": "6cabe24e",
   "metadata": {},
   "outputs": [
    {
     "name": "stdout",
     "output_type": "stream",
     "text": [
      "ReadHoldingRegistersResponse(dev_id=1, transaction_id=1, address=0, count=0, bits=[], registers=[51], status=1retries=0)\n",
      "51\n"
     ]
    }
   ],
   "source": [
    "from pymodbus.client import ModbusTcpClient\n",
    "import time\n",
    "\n",
    "IP = \"192.168.111.222\" # IP address of the eurotherm controller\n",
    "\n",
    "client = ModbusTcpClient(IP)\n",
    "if not client.connect():\n",
    "    raise RuntimeError(\"Could not connect to Modbus TCP server\")\n",
    "client.connect()\n",
    "# print(dir(client))\n",
    "parameter_modbus_address = 534\n",
    "result = client.read_holding_registers(parameter_modbus_address, device_id=1) # The first input of this function is the MODBUS address of the parameter (in this temperature) you're trying to read\n",
    "print(result)\n",
    "print(result.registers[0])\n"
   ]
  },
  {
   "cell_type": "code",
   "execution_count": null,
   "id": "5bfc44ae",
   "metadata": {},
   "outputs": [],
   "source": []
  },
  {
   "cell_type": "code",
   "execution_count": null,
   "id": "378a103f",
   "metadata": {},
   "outputs": [],
   "source": []
  }
 ],
 "metadata": {
  "kernelspec": {
   "display_name": "Python 3",
   "language": "python",
   "name": "python3"
  },
  "language_info": {
   "codemirror_mode": {
    "name": "ipython",
    "version": 3
   },
   "file_extension": ".py",
   "mimetype": "text/x-python",
   "name": "python",
   "nbconvert_exporter": "python",
   "pygments_lexer": "ipython3",
   "version": "3.11.0"
  }
 },
 "nbformat": 4,
 "nbformat_minor": 5
}
