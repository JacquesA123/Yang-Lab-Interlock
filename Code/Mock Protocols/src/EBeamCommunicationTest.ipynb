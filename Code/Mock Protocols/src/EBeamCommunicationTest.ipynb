{
 "cells": [
  {
   "cell_type": "markdown",
   "id": "2adcf783",
   "metadata": {},
   "source": [
    "# Communicating with E Beam"
   ]
  },
  {
   "cell_type": "code",
   "execution_count": null,
   "id": "59819c9d",
   "metadata": {},
   "outputs": [],
   "source": [
    "import serial\n",
    "\n",
    "# Open serial connection (adjust COM port or /dev/ttyUSB0 to your setup)\n",
    "ser = serial.Serial(\n",
    "    port=\"COM5\",        # or \"/dev/ttyUSB0\"\n",
    "    baudrate=57600,\n",
    "    bytesize=serial.EIGHTBITS,\n",
    "    parity=serial.PARITY_NONE,\n",
    "    stopbits=serial.STOPBITS_ONE,\n",
    "    xonxoff=True,       # X on / X off handshake\n",
    "    timeout=1\n",
    ")\n",
    "\n",
    "print(ser.name)\n",
    "ser.is_open\n",
    "\n",
    "# Example: set HV to 860 V\n",
    "# ser.write(b\"SET HV 860\\r\")\n",
    "\n",
    "# Example: query HV\n",
    "ser.write(b\"GET HV\\r\")\n",
    "response = ser.readline().decode(errors=\"ignore\").strip()\n",
    "print(response)\n",
    "# print(type(response))\n",
    "# print(\"Measured HV:\", response)\n",
    "\n",
    "ser.close()"
   ]
  }
 ],
 "metadata": {
  "language_info": {
   "name": "python"
  }
 },
 "nbformat": 4,
 "nbformat_minor": 5
}
