{
 "cells": [
  {
   "cell_type": "markdown",
   "id": "bf8f3b6a",
   "metadata": {},
   "source": [
    "# Can we read data from the pump (i.e. RPM, Drive Current)"
   ]
  },
  {
   "cell_type": "markdown",
   "id": "605a88f0",
   "metadata": {},
   "source": [
    "## Setup"
   ]
  },
  {
   "cell_type": "code",
   "execution_count": 1,
   "id": "cfe94585",
   "metadata": {},
   "outputs": [
    {
     "name": "stderr",
     "output_type": "stream",
     "text": [
      "/Users/jacques/Documents/UChicago/UChicago Research/Yang Research/Interlock Project/Interlock-venv/lib/python3.11/site-packages/pyvisa_py/tcpip.py:122: UserWarning: TCPIP::hislip resource discovery requires the zeroconf package to be installed... try 'pip install zeroconf'\n",
      "  warnings.warn(\n"
     ]
    },
    {
     "ename": "Exception",
     "evalue": "No Pfeiffer device found.",
     "output_type": "error",
     "traceback": [
      "\u001b[31m---------------------------------------------------------------------------\u001b[39m",
      "\u001b[31mException\u001b[39m                                 Traceback (most recent call last)",
      "\u001b[36mCell\u001b[39m\u001b[36m \u001b[39m\u001b[32mIn[1]\u001b[39m\u001b[32m, line 32\u001b[39m\n\u001b[32m     20\u001b[39m \u001b[38;5;28;01mimport\u001b[39;00m\u001b[38;5;250m \u001b[39m\u001b[34;01mRealPfeifferTC110\u001b[39;00m\u001b[38;5;250m \u001b[39m\u001b[38;5;28;01mas\u001b[39;00m\u001b[38;5;250m \u001b[39m\u001b[34;01mrpt\u001b[39;00m\n\u001b[32m     22\u001b[39m \u001b[38;5;66;03m# Open the serial port with a 1 second timeout (timeout time is the amount of time it will wait before moving onto the next line of code)\u001b[39;00m\n\u001b[32m     23\u001b[39m \u001b[38;5;66;03m# If \"COM1\" doesn’t work, you need to find which COM port is assigned to your USB-to-RS485 adapter.\u001b[39;00m\n\u001b[32m     24\u001b[39m \u001b[38;5;66;03m# s = serial.Serial(\"/dev/tty.usbserial-BG000M8V\", baudrate=9600, timeout=1)\u001b[39;00m\n\u001b[32m   (...)\u001b[39m\u001b[32m     29\u001b[39m \n\u001b[32m     30\u001b[39m \u001b[38;5;66;03m# For testing which port the pump is connected to\u001b[39;00m\n\u001b[32m---> \u001b[39m\u001b[32m32\u001b[39m pump = \u001b[43mrpt\u001b[49m\u001b[43m.\u001b[49m\u001b[43mTC110\u001b[49m\u001b[43m(\u001b[49m\u001b[43mdevice_id\u001b[49m\u001b[43m \u001b[49m\u001b[43m=\u001b[49m\u001b[43m \u001b[49m\u001b[32;43m1\u001b[39;49m\u001b[43m,\u001b[49m\u001b[43m \u001b[49m\u001b[43mport\u001b[49m\u001b[43m \u001b[49m\u001b[43m=\u001b[49m\u001b[43m \u001b[49m\u001b[33;43m'\u001b[39;49m\u001b[33;43mASRL/dev/cu.usbserial-BG000M8V::INSTR\u001b[39;49m\u001b[33;43m'\u001b[39;49m\u001b[43m,\u001b[49m\u001b[43m \u001b[49m\u001b[43mautoconnect\u001b[49m\u001b[43m=\u001b[49m\u001b[38;5;28;43;01mTrue\u001b[39;49;00m\u001b[43m)\u001b[49m\n\u001b[32m     33\u001b[39m current = pump.get_current()\n\u001b[32m     34\u001b[39m rpm = pump.get_rpm_speed()\n",
      "\u001b[36mFile \u001b[39m\u001b[32m~/Documents/UChicago/UChicago Research/Yang Research/Interlock Project/Code/Mock Protocols/src/RealPfeifferTC110.py:115\u001b[39m, in \u001b[36mTC110.__init__\u001b[39m\u001b[34m(self, device_id, port, autoconnect)\u001b[39m\n\u001b[32m     35\u001b[39m \u001b[38;5;28mself\u001b[39m.commands = {\u001b[33m'\u001b[39m\u001b[33mHeating\u001b[39m\u001b[33m'\u001b[39m: {\u001b[33m'\u001b[39m\u001b[33mnumber\u001b[39m\u001b[33m'\u001b[39m: \u001b[33m'\u001b[39m\u001b[33m001\u001b[39m\u001b[33m'\u001b[39m,  \u001b[33m'\u001b[39m\u001b[33mdescription\u001b[39m\u001b[33m'\u001b[39m: \u001b[33m'\u001b[39m\u001b[33mHeating\u001b[39m\u001b[33m'\u001b[39m, \u001b[33m'\u001b[39m\u001b[33mdata type\u001b[39m\u001b[33m'\u001b[39m: \u001b[32m0\u001b[39m, \u001b[33m'\u001b[39m\u001b[33maccess\u001b[39m\u001b[33m'\u001b[39m: \u001b[33m'\u001b[39m\u001b[33mRW\u001b[39m\u001b[33m'\u001b[39m, \u001b[33m'\u001b[39m\u001b[33mmin\u001b[39m\u001b[33m'\u001b[39m: \u001b[32m0\u001b[39m, \u001b[33m'\u001b[39m\u001b[33mmax\u001b[39m\u001b[33m'\u001b[39m: \u001b[32m1\u001b[39m, \u001b[33m'\u001b[39m\u001b[33mdefault\u001b[39m\u001b[33m'\u001b[39m: \u001b[32m0\u001b[39m, \u001b[33m'\u001b[39m\u001b[33mnon-volatile\u001b[39m\u001b[33m'\u001b[39m: \u001b[38;5;28;01mTrue\u001b[39;00m},\n\u001b[32m     36\u001b[39m             \u001b[33m'\u001b[39m\u001b[33mStandby\u001b[39m\u001b[33m'\u001b[39m: {\u001b[33m'\u001b[39m\u001b[33mnumber\u001b[39m\u001b[33m'\u001b[39m: \u001b[33m'\u001b[39m\u001b[33m002\u001b[39m\u001b[33m'\u001b[39m,  \u001b[33m'\u001b[39m\u001b[33mdescription\u001b[39m\u001b[33m'\u001b[39m: \u001b[33m'\u001b[39m\u001b[33mStandby\u001b[39m\u001b[33m'\u001b[39m, \u001b[33m'\u001b[39m\u001b[33mdata type\u001b[39m\u001b[33m'\u001b[39m: \u001b[32m0\u001b[39m, \u001b[33m'\u001b[39m\u001b[33maccess\u001b[39m\u001b[33m'\u001b[39m: \u001b[33m'\u001b[39m\u001b[33mRW\u001b[39m\u001b[33m'\u001b[39m, \u001b[33m'\u001b[39m\u001b[33mmin\u001b[39m\u001b[33m'\u001b[39m: \u001b[32m0\u001b[39m, \u001b[33m'\u001b[39m\u001b[33mmax\u001b[39m\u001b[33m'\u001b[39m: \u001b[32m1\u001b[39m, \u001b[33m'\u001b[39m\u001b[33mdefault\u001b[39m\u001b[33m'\u001b[39m: \u001b[32m0\u001b[39m, \u001b[33m'\u001b[39m\u001b[33mnon-volatile\u001b[39m\u001b[33m'\u001b[39m: \u001b[38;5;28;01mTrue\u001b[39;00m},\n\u001b[32m     37\u001b[39m             \u001b[33m'\u001b[39m\u001b[33mRUTimeCtrl\u001b[39m\u001b[33m'\u001b[39m: {\u001b[33m'\u001b[39m\u001b[33mnumber\u001b[39m\u001b[33m'\u001b[39m: \u001b[33m'\u001b[39m\u001b[33m004\u001b[39m\u001b[33m'\u001b[39m,  \u001b[33m'\u001b[39m\u001b[33mdescription\u001b[39m\u001b[33m'\u001b[39m: \u001b[33m'\u001b[39m\u001b[33mRun-up time control\u001b[39m\u001b[33m'\u001b[39m, \u001b[33m'\u001b[39m\u001b[33mdata type\u001b[39m\u001b[33m'\u001b[39m: \u001b[32m0\u001b[39m, \u001b[33m'\u001b[39m\u001b[33maccess\u001b[39m\u001b[33m'\u001b[39m: \u001b[33m'\u001b[39m\u001b[33mRW\u001b[39m\u001b[33m'\u001b[39m, \u001b[33m'\u001b[39m\u001b[33mmin\u001b[39m\u001b[33m'\u001b[39m: \u001b[32m0\u001b[39m, \u001b[33m'\u001b[39m\u001b[33mmax\u001b[39m\u001b[33m'\u001b[39m: \u001b[32m1\u001b[39m, \u001b[33m'\u001b[39m\u001b[33mdefault\u001b[39m\u001b[33m'\u001b[39m: \u001b[32m1\u001b[39m, \u001b[33m'\u001b[39m\u001b[33mnon-volatile\u001b[39m\u001b[33m'\u001b[39m: \u001b[38;5;28;01mTrue\u001b[39;00m},\n\u001b[32m   (...)\u001b[39m\u001b[32m    112\u001b[39m             \u001b[33m'\u001b[39m\u001b[33mServicelin\u001b[39m\u001b[33m'\u001b[39m: {\u001b[33m'\u001b[39m\u001b[33mnumber\u001b[39m\u001b[33m'\u001b[39m: \u001b[33m'\u001b[39m\u001b[33m795\u001b[39m\u001b[33m'\u001b[39m,  \u001b[33m'\u001b[39m\u001b[33mdescription\u001b[39m\u001b[33m'\u001b[39m: \u001b[33m'\u001b[39m\u001b[33mInsert service line\u001b[39m\u001b[33m'\u001b[39m, \u001b[33m'\u001b[39m\u001b[33mdata type\u001b[39m\u001b[33m'\u001b[39m: \u001b[32m7\u001b[39m, \u001b[33m'\u001b[39m\u001b[33maccess\u001b[39m\u001b[33m'\u001b[39m: \u001b[33m'\u001b[39m\u001b[33mRW\u001b[39m\u001b[33m'\u001b[39m, \u001b[33m'\u001b[39m\u001b[33mmin\u001b[39m\u001b[33m'\u001b[39m: \u001b[38;5;28;01mNone\u001b[39;00m, \u001b[33m'\u001b[39m\u001b[33mmax\u001b[39m\u001b[33m'\u001b[39m: \u001b[38;5;28;01mNone\u001b[39;00m, \u001b[33m'\u001b[39m\u001b[33mdefault\u001b[39m\u001b[33m'\u001b[39m: \u001b[32m795\u001b[39m, \u001b[33m'\u001b[39m\u001b[33mnon-volatile\u001b[39m\u001b[33m'\u001b[39m: \u001b[38;5;28;01mFalse\u001b[39;00m},\n\u001b[32m    113\u001b[39m             \u001b[33m'\u001b[39m\u001b[33mRS485Adr\u001b[39m\u001b[33m'\u001b[39m: {\u001b[33m'\u001b[39m\u001b[33mnumber\u001b[39m\u001b[33m'\u001b[39m: \u001b[33m'\u001b[39m\u001b[33m797\u001b[39m\u001b[33m'\u001b[39m,  \u001b[33m'\u001b[39m\u001b[33mdescription\u001b[39m\u001b[33m'\u001b[39m: \u001b[33m'\u001b[39m\u001b[33mRS485 device address\u001b[39m\u001b[33m'\u001b[39m, \u001b[33m'\u001b[39m\u001b[33mdata type\u001b[39m\u001b[33m'\u001b[39m: \u001b[32m1\u001b[39m, \u001b[33m'\u001b[39m\u001b[33maccess\u001b[39m\u001b[33m'\u001b[39m: \u001b[33m'\u001b[39m\u001b[33mRW\u001b[39m\u001b[33m'\u001b[39m, \u001b[33m'\u001b[39m\u001b[33mmin\u001b[39m\u001b[33m'\u001b[39m: \u001b[32m1\u001b[39m, \u001b[33m'\u001b[39m\u001b[33mmax\u001b[39m\u001b[33m'\u001b[39m: \u001b[32m255\u001b[39m, \u001b[33m'\u001b[39m\u001b[33mdefault\u001b[39m\u001b[33m'\u001b[39m: \u001b[32m1\u001b[39m, \u001b[33m'\u001b[39m\u001b[33mnon-volatile\u001b[39m\u001b[33m'\u001b[39m: \u001b[38;5;28;01mTrue\u001b[39;00m}}\n\u001b[32m    114\u001b[39m \u001b[38;5;28;01mif\u001b[39;00m autoconnect:\n\u001b[32m--> \u001b[39m\u001b[32m115\u001b[39m     \u001b[38;5;28;43mself\u001b[39;49m\u001b[43m.\u001b[49m\u001b[43mconnect\u001b[49m\u001b[43m(\u001b[49m\u001b[38;5;28;43mself\u001b[39;49m\u001b[43m.\u001b[49m\u001b[43mdevice_id\u001b[49m\u001b[43m,\u001b[49m\u001b[43m \u001b[49m\u001b[38;5;28;43mself\u001b[39;49m\u001b[43m.\u001b[49m\u001b[43mport\u001b[49m\u001b[43m)\u001b[49m\n",
      "\u001b[36mFile \u001b[39m\u001b[32m~/Documents/UChicago/UChicago Research/Yang Research/Interlock Project/Code/Mock Protocols/src/RealPfeifferTC110.py:126\u001b[39m, in \u001b[36mTC110.connect\u001b[39m\u001b[34m(self, device_id, port)\u001b[39m\n\u001b[32m    123\u001b[39m     \u001b[38;5;28mself\u001b[39m.inst.write_termination = \u001b[33m'\u001b[39m\u001b[38;5;130;01m\\r\u001b[39;00m\u001b[33m'\u001b[39m\n\u001b[32m    124\u001b[39m     \u001b[38;5;66;03m# try communicating and try other ports in self.devices if unsuccessful. If all fails, raise Exception('No Pfeiffer device found.').\u001b[39;00m\n\u001b[32m    125\u001b[39m \u001b[38;5;28;01melse\u001b[39;00m:\n\u001b[32m--> \u001b[39m\u001b[32m126\u001b[39m     \u001b[38;5;28;01mraise\u001b[39;00m \u001b[38;5;167;01mException\u001b[39;00m(\u001b[33m'\u001b[39m\u001b[33mNo Pfeiffer device found.\u001b[39m\u001b[33m'\u001b[39m)\n",
      "\u001b[31mException\u001b[39m: No Pfeiffer device found."
     ]
    }
   ],
   "source": [
    "\n",
    "import PfiefferVacuumProtocol as pvp\n",
    "import serial\n",
    "import RealPfeifferTC110 as rpt\n",
    "import PfeifferTC110OfficialTest as TC_test\n",
    "\n",
    "import csv\n",
    "import os\n",
    "import serial\n",
    "import datetime\n",
    "import numpy as np\n",
    "import tkinter as tk\n",
    "from collections import deque\n",
    "import matplotlib.pyplot as plt\n",
    "from matplotlib.backends.backend_tkagg import FigureCanvasTkAgg # FigureCanvasTkAgg is a class that allows a Matplotlib plot to be embedded in a Tkinker GUI window\n",
    "\n",
    "#Import the Pfeiffer gauge protocol\n",
    "import PfiefferVacuumProtocol as pvp\n",
    "\n",
    "#Import the mock Pfeiffer TC110 (vacuum pump) protocol\n",
    "import RealPfeifferTC110 as rpt\n",
    "\n",
    "# Open the serial port with a 1 second timeout (timeout time is the amount of time it will wait before moving onto the next line of code)\n",
    "# If \"COM1\" doesn’t work, you need to find which COM port is assigned to your USB-to-RS485 adapter.\n",
    "# s = serial.Serial(\"/dev/tty.usbserial-BG000M8V\", baudrate=9600, timeout=1)\n",
    "# address = 122\n",
    "# gauge_type = pvp.read_gauge_type(s, address)\n",
    "# print(f\"Detected: {gauge_type} at address: {address}\")\n",
    "\n",
    "\n",
    "# For testing which port the pump is connected to\n",
    "\n",
    "pump = rpt.TC110(device_id = 1, port = 'ASRL/dev/cu.usbserial-BG000M8V::INSTR', autoconnect=True)\n",
    "current = pump.get_current()\n",
    "rpm = pump.get_rpm_speed()\n",
    "print(current)\n",
    "print(rpm)\n",
    "# pump.run_timed(5)\n",
    "\n",
    "\n",
    "\n",
    "\n",
    "\n"
   ]
  },
  {
   "cell_type": "code",
   "execution_count": null,
   "id": "443e0157",
   "metadata": {},
   "outputs": [],
   "source": []
  }
 ],
 "metadata": {
  "kernelspec": {
   "display_name": "Interlock-venv (3.11.0)",
   "language": "python",
   "name": "python3"
  },
  "language_info": {
   "codemirror_mode": {
    "name": "ipython",
    "version": 3
   },
   "file_extension": ".py",
   "mimetype": "text/x-python",
   "name": "python",
   "nbconvert_exporter": "python",
   "pygments_lexer": "ipython3",
   "version": "3.11.0"
  }
 },
 "nbformat": 4,
 "nbformat_minor": 5
}
